{
  "cells": [
    {
      "cell_type": "markdown",
      "metadata": {
        "id": "M-DGa20PaHnu"
      },
      "source": [
        "# Задача 1\n",
        "Написать функцию на вход которой подается строка, состоящая из латинских букв.\n",
        "Функция должна вернуть количество гласных букв (a, e, i, o, u) в этой строке. Написать тесты для кода"
      ]
    },
    {
      "cell_type": "code",
      "execution_count": 23,
      "metadata": {
        "id": "XvX8X_JJ6PCb"
      },
      "outputs": [
        {
          "name": "stdout",
          "output_type": "stream",
          "text": [
            "2\n",
            "6\n",
            "0\n"
          ]
        }
      ],
      "source": [
        "def func(str):\n",
        "    vowels = ['a', 'e', 'i', 'o', 'u']\n",
        "    counter = 0\n",
        "    for let in str:\n",
        "        if let in vowels:\n",
        "            counter += 1\n",
        "    print(counter)\n",
        "\n",
        "func('ajki')\n",
        "func('aiiiuo')\n",
        "func('')"
      ]
    },
    {
      "cell_type": "markdown",
      "metadata": {
        "id": "t2ClV_Y0bbr6"
      },
      "source": [
        "# Задача 2\n",
        "Написать функцию на вход, которой подается строка. Функция должна вернуть true, если\n",
        "каждый символ в строке встречается только 1 раз, иначе должна вернуть false. Написать тесты для кода"
      ]
    },
    {
      "cell_type": "code",
      "execution_count": 24,
      "metadata": {
        "id": "FppbECao6VIz"
      },
      "outputs": [
        {
          "name": "stdout",
          "output_type": "stream",
          "text": [
            "True\n",
            "False\n"
          ]
        }
      ],
      "source": [
        "def is_unique(s):\n",
        "    char_count = {}\n",
        "    for char in s:\n",
        "        if char in char_count:\n",
        "            return False\n",
        "        else:\n",
        "            char_count[char] = 1\n",
        "\n",
        "    return True\n",
        "\n",
        "print(is_unique('abcdefg'))\n",
        "\n",
        "print(is_unique('hello'))\n"
      ]
    },
    {
      "cell_type": "markdown",
      "metadata": {
        "id": "udRiIK1cdt6E"
      },
      "source": [
        "# Задача 3\n",
        "Написать функцию, которая принимает положительное число и возвращает количество\n",
        "бит равных 1 в этом числе. Написать тесты для кода"
      ]
    },
    {
      "cell_type": "code",
      "execution_count": 25,
      "metadata": {
        "id": "6tkfDJRz6dp_"
      },
      "outputs": [
        {
          "name": "stdout",
          "output_type": "stream",
          "text": [
            "Количество установленных битов в числе 23 : 4\n"
          ]
        }
      ],
      "source": [
        "def count_set_bits(num):\n",
        "    count = 0\n",
        "    while num:\n",
        "        count += num & 1\n",
        "        num >>= 1\n",
        "    return count\n",
        "\n",
        "number = 23\n",
        "print(\"Количество установленных битов в числе\", number, \":\", count_set_bits(number))"
      ]
    },
    {
      "cell_type": "markdown",
      "metadata": {
        "id": "26dDUz-Ae17N"
      },
      "source": [
        "# Задача 4\n",
        "Написать функцию, которая принимает положительное число. Функция должна вернуть то,\n",
        "сколько раз необходимо перемножать цифры числа или результат перемножения, чтобы\n",
        "получилось число состоящее из одной цифры.\n",
        "Например, для входного числа:\n",
        "· 39 функция должна вернуть 3, так как 3*9=27 => 2*7=14 => 1*4=4\n",
        "· 4 функция должна вернуть 0, так как число уже состоит из одной цифры\n",
        "· 999 функция должна вернуть 4, так как 9*9*9=729 => 7*2*9=126 => 1*2*6=12 =>\n",
        "1*2=2. Написать тесты для кода"
      ]
    },
    {
      "cell_type": "code",
      "execution_count": 26,
      "metadata": {
        "id": "BH1A_Mgi6i4G"
      },
      "outputs": [
        {
          "name": "stdout",
          "output_type": "stream",
          "text": [
            "Для числа 39 необходимо 3 шагов, чтобы получить одну цифру.\n",
            "Для числа 4 необходимо 0 шагов, чтобы получить одну цифру.\n",
            "Для числа 999 необходимо 4 шагов, чтобы получить одну цифру.\n"
          ]
        }
      ],
      "source": [
        "def digit_multiplication_steps(n):\n",
        "    def multiply_digits(number):\n",
        "        result = 1\n",
        "        while number:\n",
        "            digit = number % 10\n",
        "            result *= digit\n",
        "            number //= 10\n",
        "        return result\n",
        "\n",
        "    steps = 0\n",
        "    while n >= 10:\n",
        "        n = multiply_digits(n)\n",
        "        steps += 1\n",
        "    return steps\n",
        "\n",
        "numbers = [39, 4, 999]\n",
        "for num in numbers:\n",
        "    print(\"Для числа\", num, \"необходимо\", digit_multiplication_steps(num), \"шагов, чтобы получить одну цифру.\")\n"
      ]
    },
    {
      "cell_type": "markdown",
      "metadata": {
        "id": "0nS-kIa8g8vd"
      },
      "source": [
        "# Задача 5\n",
        "Написать функцию, которая принимает два целочисленных вектора одинаковой длины и\n",
        "возвращает среднеквадратическое отклонение двух векторов. Написать тесты для кода"
      ]
    },
    {
      "cell_type": "code",
      "execution_count": 27,
      "metadata": {
        "id": "8iphx4LM6xbx"
      },
      "outputs": [
        {
          "name": "stdout",
          "output_type": "stream",
          "text": [
            "Среднеквадратическое отклонение между векторами: 1.0\n"
          ]
        }
      ],
      "source": [
        "import math\n",
        "\n",
        "def rmse(vector1, vector2):\n",
        "    if len(vector1) != len(vector2):\n",
        "        raise ValueError(\"Длины векторов должны быть одинаковыми\")\n",
        "\n",
        "    squared_diff = [(x - y) ** 2 for x, y in zip(vector1, vector2)]\n",
        "\n",
        "    mean_squared_diff = sum(squared_diff) / len(vector1)\n",
        "\n",
        "    return math.sqrt(mean_squared_diff)\n",
        "\n",
        "vector1 = [1, 2, 3, 4, 5]\n",
        "vector2 = [2, 3, 4, 5, 6]\n",
        "print(\"Среднеквадратическое отклонение между векторами:\", rmse(vector1, vector2))\n"
      ]
    },
    {
      "cell_type": "markdown",
      "metadata": {
        "id": "vpIPKL439zkw"
      },
      "source": [
        "# Задача 6\n",
        "Написать функцию, принимающая целое положительное число. Функция должна вернуть\n",
        "строку вида “(n1**p1)(n2**p2)…(nk**pk)” представляющая разложение числа на простые\n",
        "множители (если pi == 1, то выводить только ni).\n",
        "Например, для числа 86240 функция должна вернуть “(2**5)(5)(7**2)(11)”. Написать тесты для кода"
      ]
    },
    {
      "cell_type": "code",
      "execution_count": 28,
      "metadata": {
        "id": "pFebmcZk94Jw"
      },
      "outputs": [
        {
          "name": "stdout",
          "output_type": "stream",
          "text": [
            "(2**5)(5)(7**2)(11)\n"
          ]
        }
      ],
      "source": [
        "def prime_factors(n):\n",
        "    result = \"\"\n",
        "    divisor = 2\n",
        "\n",
        "    while n > 1:\n",
        "        power = 0\n",
        "        while n % divisor == 0:\n",
        "            power += 1\n",
        "            n //= divisor\n",
        "\n",
        "        if power > 0:\n",
        "            if power == 1:\n",
        "                result += f\"({divisor})\"\n",
        "            else:\n",
        "                result += f\"({divisor}**{power})\"\n",
        "        \n",
        "        divisor += 1\n",
        "\n",
        "    return result\n",
        "\n",
        "number = 86240\n",
        "print(prime_factors(number))\n"
      ]
    },
    {
      "cell_type": "markdown",
      "metadata": {
        "id": "ps2s0BudX7A2"
      },
      "source": [
        "# Задача 7\n",
        "Написать функцию, принимающая целое число n, задающее количество кубиков. Функция\n",
        "должна определить, можно ли из данного кол-ва кубиков построить пирамиду, то есть\n",
        "можно ли представить число n как 1^2+2^2+3^2+…+k^2. Если можно, то функция должна\n",
        "вернуть k, иначе строку “It is impossible”. Написать тесты для кода"
      ]
    },
    {
      "cell_type": "code",
      "execution_count": 29,
      "metadata": {
        "id": "3YPjEXxhX_YT"
      },
      "outputs": [
        {
          "name": "stdout",
          "output_type": "stream",
          "text": [
            "It is impossible\n",
            "It is impossible\n"
          ]
        }
      ],
      "source": [
        "def pyramid(number):\n",
        "    total_sum = 0\n",
        "    k = 1\n",
        "\n",
        "    while total_sum < number:\n",
        "        total_sum += k ** 2\n",
        "        if total_sum == number:\n",
        "            return k\n",
        "        k += 1\n",
        "\n",
        "    return \"It is impossible\"\n",
        "\n",
        "print(pyramid(12))\n",
        "print(pyramid(13))\n"
      ]
    },
    {
      "cell_type": "markdown",
      "metadata": {
        "id": "KeKgmIdAQMEJ"
      },
      "source": [
        "# Задача 8\n",
        "Функция принимает на вход положительное число и определяет является ли оно сбалансированным, т.е. сумма цифр до средних равна сумме цифр после. Средними в случае нечетного числа цифр считать одну цифру, в случае четного - две средних. Написать тесты для кода"
      ]
    },
    {
      "cell_type": "code",
      "execution_count": 30,
      "metadata": {
        "id": "gMAAqtqlQrZt"
      },
      "outputs": [
        {
          "name": "stdout",
          "output_type": "stream",
          "text": [
            "True\n",
            "True\n",
            "False\n"
          ]
        }
      ],
      "source": [
        "def is_balanced(number):\n",
        "    num_str = str(number)\n",
        "    num_length = len(num_str)\n",
        "    \n",
        "    digits_before_middle = num_length // 2 if num_length % 2 == 0 else num_length // 2 + 1\n",
        "    \n",
        "    sum_before = sum(int(digit) for digit in num_str[:digits_before_middle])\n",
        "    sum_after = sum(int(digit) for digit in num_str[-digits_before_middle:])\n",
        "    \n",
        "    return sum_before == sum_after\n",
        "\n",
        "print(is_balanced(121))\n",
        "print(is_balanced(12321))\n",
        "print(is_balanced(123))\n"
      ]
    }
  ],
  "metadata": {
    "colab": {
      "provenance": []
    },
    "kernelspec": {
      "display_name": "Python 3",
      "name": "python3"
    },
    "language_info": {
      "codemirror_mode": {
        "name": "ipython",
        "version": 3
      },
      "file_extension": ".py",
      "mimetype": "text/x-python",
      "name": "python",
      "nbconvert_exporter": "python",
      "pygments_lexer": "ipython3",
      "version": "3.11.8"
    }
  },
  "nbformat": 4,
  "nbformat_minor": 0
}
